{
 "cells": [
  {
   "cell_type": "markdown",
   "id": "e10f8b1b-4d4f-4c45-b7fb-3b05cb02abd8",
   "metadata": {},
   "source": [
    "---\n",
    "title: \"Forelesning 4 - Virkninger og ringvirkninger\"\n",
    "format: \n",
    "  html:\n",
    "    code-fold: true\n",
    "---"
   ]
  },
  {
   "cell_type": "markdown",
   "id": "0ed0c7ab-9cc2-4281-b1f8-c0d82315f65c",
   "metadata": {},
   "source": [
    "# Hva er virkninger?\n",
    "\n",
    "Det følger av Finansdepartementets rundskriv [R-109/2021]( https://www.regjeringen.no/no/tema/okonomi-og-budsjett/statlig-okonomistyring/samfunnsokonomiske-analyser/id438830/) at man i utredningen skal beskrive hvilke nytte- og kostnadsvirkninger de ulike tiltakene forventes å ha, hvem og hvilke områder som blir berørt, og hvordan disse blir berørt. Virkningene skal beskrives som *endringer sammenlignet med nullalternativet*. \n",
    "Virkninger som *ikke* skal telles med:\n",
    "* Virkninger som også ville ha oppstått uten tiltaket\n",
    "* Kostnader (eller nytte) som allerede har påløpt eller vedtatt, skal inkluderes som en virkning av tiltakene som analyseres, såkalt «sunk cost»\n",
    "\n",
    "Husk at nullalternativet er *uviklingen* av dagens situasjon, og ikke situasjonen akkurat nå. Endringer som må påregnes i fremtiden må derfor tas med i nullalternativet.\n",
    "Som hovedregel er det kun grupper i Norge som skal tas med."
   ]
  },
  {
   "cell_type": "markdown",
   "id": "885697cf-93fc-49c5-abcf-bcafb1048abb",
   "metadata": {},
   "source": [
    "# Nyttevirkninger:\n",
    "Nyttevirkninger er positive virkninger, effekter, fordeler eller gevinster.\n",
    "* økt trygghet som følge av redusert kriminalitet\n",
    "* økt tilfredshet hos brukerne når kvaliteten på tjenesten forbedres\n",
    "* tidsbesparelser ved forenklet rapportering\n",
    "* helsegevinster når helsehjelpen blir mer tilgjengelig\n",
    "* miljøgevinster når forurensningen i et turområde reduseres\n",
    "* økt personvern som følge av nytt regelverk\n",
    "* kostnadsbesparelser som frigjør ressurser"
   ]
  },
  {
   "cell_type": "markdown",
   "id": "64c901c4-69cc-4bb2-9bd7-04a4d57e3f55",
   "metadata": {},
   "source": [
    "# Kostnadsvirkninger:\n",
    "\n",
    "Kostnadsvirkninger, også kalt negative virkninger,43 er virkninger som reduserer velferden for én eller flere grupper i samfunnet eller for samfunnet samlet som følge av tiltaket, for eksempel\n",
    "\n",
    "* tap av liv og helse ved økt risiko for ulykker\n",
    "* miljøkostnader som følge av tapte naturområder\n",
    "* redusert trygghetsfølelse ved mindre politi i gatene\n",
    "* tapt tid i arbeid og opplevd stress når barnehagetilbudet reduseres"
   ]
  },
  {
   "cell_type": "markdown",
   "id": "111d46f6-7857-4a91-970a-9e514db6f022",
   "metadata": {},
   "source": [
    "# Dobbeltelling:\n",
    "\n",
    "Tiltak vil ofte kunne tilsynelatende ha flere virkninger som egentlig er den samme. For eksempel:\n",
    "\n",
    "* En miljøavgift sørger for redusert produksjon av en vare med negative eksterne effekter (for eksempel en forurensende bedrift). Det reduserte forbruket er ikke en ekstra virkning, men bare en kostnad som er flyttet fra negative miljøkonsekvenser for samfunnet til et dødvektstap. \n",
    "* En kanskje enda vanligere dobbeltelling er samme virkning med ulik benevnelse, for eksempel om en både teller opp at det er blitt flere fisk i elven på grunn av mindre forurensning og at fiskerene har fått økt overskudd."
   ]
  },
  {
   "cell_type": "markdown",
   "id": "087a84f8-3bf7-48e4-99f7-9b52a0e6aece",
   "metadata": {},
   "source": [
    "# Identifiser og beskriv virkningene\n",
    "\n",
    "For å identifisere de samfunnsøkonomiske virkningene for hvert av tiltakene som utredes, anbefaler vi å følge disse stegene: \n",
    "\n",
    "1. Identifiser de berørte gruppene. \n",
    "2. Spesifiser egenskapene som driver virkningene for de berørte gruppene.\n",
    "3. Bruk årsaksforholdene til å finne de samfunnsøkonomiske virkningene.\n",
    "4. Ta en ekstra sjekk – er det noe som er fordelingsvirkninger eller telt dobbelt?"
   ]
  },
  {
   "cell_type": "markdown",
   "id": "90e3ff6c-b604-4bbd-8220-55eda8638957",
   "metadata": {},
   "source": [
    "# Ringvirkninger\n",
    "\n",
    "Dersom en ringvirkning skal ha en netto samfunnsøkonomisk verdi, må det finnes en markedssvikt i sekundærmarkedene som innebærer at det før tiltaket er et under- eller overforbruk av ressurser sammenlignet med det som er samfunnsøkonomisk optimalt.\n",
    "Veilederen kap. 4.3\n"
   ]
  },
  {
   "cell_type": "markdown",
   "id": "ea5687ef-4b99-4d82-be54-e3a39b668193",
   "metadata": {},
   "source": [
    ">Det finnes ikke tilstrekkelig empirisk grunnlag til å beregne netto ringvirkninger i samfunnsøkonomiske analyser. Slike virkninger skal derfor ikke inngå i selve analysen.\n",
    "\n",
    ">Dersom det er grunnlag for å anta at tiltaket vil ha netto ringvirkninger, slik som virkninger på arbeidstilbud, areal eller konkurransesituasjonen ut over det som er fanget opp i den ordinære beregningen av nytte, kan informasjon om dette inngå i en >tilleggsanalyse. Tilleggsanalysen kan inneholde både kvantitativ og kvalitativ informasjon som vil kunne være nyttig for beslutningstakerne.\n",
    "\n",
    "<div style=\"text-align: right\"> <i>Krav i rundskriv R-109/2021, punkt 10.2 Tilleggsanalyser - Netto ringvirkninger</i></div>"
   ]
  },
  {
   "cell_type": "markdown",
   "id": "8095b689-770c-47ff-843d-15303334ea83",
   "metadata": {},
   "source": [
    "# Ringvirkninger\n",
    "\n",
    "Ringvirkninger kan være både positive og negative. For å kategorisere disse, kan vi kalle markedene som direkte påvirkes for \"primærmarkeder\", mens de som indirekte påvirkes kan vi kalle for \"sekundærmarkeder\". *Ringvirkninger er endring i ressursbruk i en likevektssituasjon i sekundærmarkeder*. Som et eksempel er transportmarkedet et primærmarked for tiltak innen transportinfrastruktur. Arbeidsmarkedet, eiendomsmarkedet, og markedene for varer og tjenester som benytter transport, er derimot sekundærmarkeder.\n",
    "\n",
    "Dersom det er grunnlag for å tro at tiltaket vil påvirke for eksempel arbeidstilbud, arealbruk eller konkurransesituasjon mer enn det som er tatt hensyn til i den vanlige nyttevurderingen, må dette i så fall inngå i en tilleggsanalyse. Tilleggsanalysen av netto ringvirkninger kan inneholde både kvantitativ og kvalitativ informasjon som vil kunne være nyttig for beslutningstakeren.\n",
    "\n",
    "I mange tilfeller er det av interesse å forstå de lokale konsekvensene av et tiltak, som for eksempel hvilken innvirkning et prosjekt innen transportinfrastruktur kan ha på et spesifikt område. Hvis slike lokale effekter oppveies av effekter i motsatt retning andre steder, er det snakk om en ren omfordelingsmekanisme. La oss si at et transporttiltak øker produktiviteten i en gitt region, men samtidig reduserer produktiviteten i en annen. Hvis nettoendringen i produktivitet er null, betyr det at tiltaket primært har en omfordelingseffekt, uten å generere en netto samfunnsøkonomisk verdi.\n",
    "\n",
    "Selv om omfordelingseffekten kan være betydelig, kan den fortsatt spille en rolle i beslutningstakers evaluering av tiltaket. Derfor bør slike effekter inkluderes i en tilleggsanalyse som fokuserer på fordelingsvirkningene. For mer informasjon, se kapittel 3.7 om fordelingsvirkninger.\n",
    "\n",
    "Typer ringvirkninger:\n",
    "\n",
    "* Produktivitet og stordriftsfordeler: \n",
    "* Større byer er generelt mer produktive.\n",
    "* Arbeidsmarkedet: \n",
    "* Bedrifter får bedre tilgang på arbeidskraft\n",
    "* Arbeidstakere får mer utvalg av jobber\n",
    "* Areal og transport\n",
    "* Prisendring er i utgangspunktet bare omfordeling\n",
    "* Frigjort areal kan ha samfunnsøkonomisk positiv virkning\n",
    "* Ufullkommen konkurranse\n",
    "* Styrking av konkurranse kan være samfunnsøkonomisk gevinst"
   ]
  },
  {
   "cell_type": "code",
   "execution_count": null,
   "id": "d8ba71cb-4bee-4897-a997-d8faf17ea3a1",
   "metadata": {},
   "outputs": [],
   "source": []
  }
 ],
 "metadata": {
  "kernelspec": {
   "display_name": "Python 3 (ipykernel)",
   "language": "python",
   "name": "python3"
  },
  "language_info": {
   "codemirror_mode": {
    "name": "ipython",
    "version": 3
   },
   "file_extension": ".py",
   "mimetype": "text/x-python",
   "name": "python",
   "nbconvert_exporter": "python",
   "pygments_lexer": "ipython3",
   "version": "3.11.5"
  }
 },
 "nbformat": 4,
 "nbformat_minor": 5
}
