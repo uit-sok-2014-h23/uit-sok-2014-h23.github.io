{
 "cells": [
  {
   "cell_type": "markdown",
   "id": "1be99eab-a362-46be-8fe2-04288c3a7fc5",
   "metadata": {
    "tags": []
   },
   "source": [
    "---\n",
    "title: \"Forelesning 10 - Virkninger uten markedspris og usikkerhet\"\n",
    "format: \n",
    "  html:\n",
    "    code-fold: true\n",
    "---"
   ]
  },
  {
   "cell_type": "markdown",
   "id": "553a483d-7da3-4562-bca0-70aaa363fd15",
   "metadata": {},
   "source": [
    "# Forelesning 10 - Virkninger uten markedspris og usikkerhet"
   ]
  },
  {
   "cell_type": "markdown",
   "id": "4def1579-0f20-4478-a8ee-d293f274a550",
   "metadata": {},
   "source": [
    "## Avdekke preferanser:\n",
    "\n",
    "#### Oversikt over ulike verdsettingsmetoder for prissetting:\n",
    "\n",
    "| Tilnærming            | Type verdi               | Vanligste verdsettingsmetoder                                                                                              |\n",
    "|-----------------------|--------------------------|----------------------------------------------------------------------------------------------------------------------------|\n",
    "| Faktisk marked        | Markedsbasert            | Bruksverdi: Markedspriser, kostnader ved avbøtende tiltak, kostnader ved å erstatte tapte miljøgoder                       |\n",
    "| Parallelle markeder   | Avslørte preferanser     | Bruksverdi: Hedonisk prising (eiendomspriser, lønninger), reisekostnadsmetoden                                              |\n",
    "| Hypotetiske markeder  | Uttrykte preferanser     | Bruksverdi og ikke-bruksverdi: Betinget verdsetting, valgeksperimenter                                                      |"
   ]
  },
  {
   "cell_type": "markdown",
   "id": "e1c09576-795d-4342-82f8-642b501308f5",
   "metadata": {},
   "source": [
    "### Fordeler og ulemper"
   ]
  },
  {
   "cell_type": "markdown",
   "id": "907e4c63-4c13-46f9-9bfe-332d05d9f976",
   "metadata": {
    "tags": []
   },
   "source": [
    "#### Markedsbasert\n",
    "\n",
    "* Den foretrukkene metoden\n",
    "* Markedspriser er ofte ikke tilgjengelig\n",
    "\n",
    "#### Metoder basert på avslørte preferanser \n",
    "\n",
    "* Forholdsvis pålitelig \n",
    "* Begrenset bruksområde\n",
    "* Mest egnet til bruksverdi\n",
    "* Bør suppleres med uttryket preferanser\n",
    "\n",
    "#### Metode for uttrkte preferanser\n",
    "\n",
    "* Kan anvendes på alle typer goder\n",
    "* Folk vil ofte ikke oppgi korrekte svar på hypotetiske valg\n",
    "* "
   ]
  },
  {
   "cell_type": "markdown",
   "id": "a2b4a17f-6285-4b91-8181-2b190bca0553",
   "metadata": {
    "tags": []
   },
   "source": [
    "## Bruk av fagksperter for å verdsette virkninger"
   ]
  },
  {
   "cell_type": "markdown",
   "id": "52413759-2980-4549-9c6e-75ccd59221ff",
   "metadata": {},
   "source": [
    "* Bedre til å vurdere sannsynligheter\n",
    "* Samme metoder for å avdekke preferanser kan brukes på eksperter\n",
    "* Ekspertvurdering vil ikke alltid samsvare med publikums egne preferanser\n",
    "* Ekspertvurderinger kan å også brukes til å designe scenarier for betinget verdsetting og valgeksperimenter"
   ]
  },
  {
   "cell_type": "markdown",
   "id": "3ceb15c0-56cd-44b5-8582-6882a5c592b0",
   "metadata": {
    "tags": []
   },
   "source": [
    "## Miljøvirkninger\n",
    "\n",
    "\n",
    "\n",
    "![Miljøverdi](img/miljovordering.png)"
   ]
  },
  {
   "cell_type": "markdown",
   "id": "12a9d903-9aaa-48fc-a5e6-8d467153cefa",
   "metadata": {
    "tags": []
   },
   "source": [
    "* Miljøverdi kan være vanskelig å verdsette, spesielt ikke-bruksverdi\n",
    "* Ofte er urimelig å forutsette at befolkningen (respondenten) har erfaring med å ta valg som påvirker tilgangen til eller kvaliteten på disse godene.\n",
    "* Verdioverføringer fra tidligere gjennomførte studier brukes ofte, men forutsetter at de underliggende verdsettingsstudiene er av høy kvalitet"
   ]
  },
  {
   "cell_type": "markdown",
   "id": "33bef11d-dfbe-42ce-a2d2-6ac9951bb6a2",
   "metadata": {
    "tags": []
   },
   "source": [
    "### Kostnadsbasert verdsettelse\n",
    "\n",
    "* Beregne hva det vil koste å unntå eller avbøte tapet av et miljøgode\n",
    "* F.eks. støyisolering"
   ]
  },
  {
   "cell_type": "markdown",
   "id": "eaf3d093-886c-4ad0-aafa-b061bc62a95c",
   "metadata": {},
   "source": [
    "# Usikkerhetsanalyse"
   ]
  },
  {
   "cell_type": "markdown",
   "id": "946b4490-debd-48be-967d-4fe3bfbc3e1f",
   "metadata": {},
   "source": [
    "### Vurdering av usikkerhet kan grovt sett bestå av disse fire stegene:\n",
    "\n",
    "* kartlegg usikkerhetsfaktorene\n",
    "* klassifiser usikkerhetsfaktorene\n",
    "* gjennomfør usikkerhetsanalyse\n",
    "* vurder risikoreduserende tiltak"
   ]
  },
  {
   "cell_type": "markdown",
   "id": "4a854cbf-60a8-4bd2-9658-e239f6e77d33",
   "metadata": {},
   "source": [
    "### Husk at usikkerhet allerede er tatt høyde for til en viss grad\n",
    "\n",
    "* Tiltak med høy risiko eller umoden teknologi kan ha blitt forkastet når relevante tiltak ble valg ut i arbeidsfase 2 \n",
    "* Forventningsverdien tar hensyn til ulike sannsynligheter for ulike utfall\n",
    "* Kalkulasjonsrenten tar hensyn til risiko"
   ]
  },
  {
   "cell_type": "markdown",
   "id": "ad179b0b-fb3c-4d4a-997d-9d3bc2d6d21d",
   "metadata": {},
   "source": [
    "### Ulike typer av usikkerhet\n",
    "\n",
    "* **Tiltaks- og prosjektinterne forhold**: Usikkerhet knyttet til gjennomføringen av prosjektet og til det man har betydelig kontroll over. Usikkerhet knyttet til selve prosjektet og organisasjonens gjennomføringsevne er sentralt. I et investeringsprosjekt kan det også være viktig å vurdere blant annet usikkerhet knyttet til teknikk, produksjonsplaner og kvaliteten på planmaterialet og prosjekteringen.\n",
    "* **Hendelsesusikkerhet**: Dette er en gjennomgang av de hendelser som kan inntreffe, og som vil kunne påvirke virkningene til tiltaket eller prosjektet, inkludert den anslåtte sannsynligheten for at hendelsene inntreffer. Eksempler kan være at det opprettes et privat konkurrerende tilbud til en offentlig tjeneste, eller at et IT-system ikke lenger vil fungere.\n",
    "* **Generell usikkerhet**: Dette er faktorer som er tiltaks- og prosjektinterne, og som kan påvirkes, men også alle grader av eksternt gitt usikkerhet og usikkerhet som ikke kan påvirkes."
   ]
  },
  {
   "cell_type": "markdown",
   "id": "3fec7edb-5468-4534-9358-725737f8bf85",
   "metadata": {
    "tags": []
   },
   "source": [
    "### Ulike typer usikkerhetsanalyse"
   ]
  },
  {
   "cell_type": "markdown",
   "id": "111d8a32-10e1-4998-bf88-3039b2885f92",
   "metadata": {},
   "source": [
    "* følsomhetsanalyser\n",
    "|                             | Pessimistisk verdi | Forventet verdi | Optimistisk verdi |\n",
    "|-----------------------------|--------------------|-----------------|-------------------|\n",
    "| Forventet investeringskostnad (mill. kr) | 300              | 125             | 50                |\n",
    "| Netto nåverdi (mill. kr)    | -47               | 128             | 203               |\n",
    "\n",
    "* scenarioanalyser\n",
    "    * Utvidelse av følsomhetsanalyse\n",
    "<br><br>\n",
    "    \n",
    "* simuleringer\n",
    "    * Monte Carlo"
   ]
  },
  {
   "cell_type": "markdown",
   "id": "e7fe932a-86f2-4554-9434-89690f37be7a",
   "metadata": {
    "tags": []
   },
   "source": [
    "### Risikoreduserende tiltak\n",
    "* forebygge avvik fra forventningsverdien\n",
    "* planlegge for å begrense konsekvensene av avvik eller uheldige hendelser "
   ]
  },
  {
   "cell_type": "markdown",
   "id": "cf5fc380-99ce-458a-a5ef-519858777eb9",
   "metadata": {},
   "source": [
    "## Realopsjoner\n",
    "* Det er betydelige (irreversible) kostnader forbundet med å komme tilbake til utgangspunktet\n",
    "* Det er sannsynlig at man senere får ny informasjon som gir god støtte i beslutningsprosessen.\n",
    "* Det er handlingsrom når man på et senere tidspunkt skal ta en ny beslutning om tiltak. "
   ]
  },
  {
   "cell_type": "markdown",
   "id": "782558bd-9365-4834-a859-914e3b114d97",
   "metadata": {},
   "source": [
    "### Forskjellige typer realopsjoner\n",
    "\n",
    "* Utsatt beslutning: \n",
    "* Trinnvis utbygging: \n",
    "* Innbygd fleksibilitet: \n",
    "* Avslutning av tiltak: "
   ]
  },
  {
   "cell_type": "code",
   "execution_count": null,
   "id": "3bea7ca7-9f0c-4bf3-aaa8-f31b0df6ba1a",
   "metadata": {},
   "outputs": [],
   "source": []
  }
 ],
 "metadata": {
  "kernelspec": {
   "display_name": "Python 3 (ipykernel)",
   "language": "python",
   "name": "python3"
  },
  "language_info": {
   "codemirror_mode": {
    "name": "ipython",
    "version": 3
   },
   "file_extension": ".py",
   "mimetype": "text/x-python",
   "name": "python",
   "nbconvert_exporter": "python",
   "pygments_lexer": "ipython3",
   "version": "3.11.5"
  }
 },
 "nbformat": 4,
 "nbformat_minor": 5
}
